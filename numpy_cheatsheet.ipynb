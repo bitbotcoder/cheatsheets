{
 "cells": [
  {
   "cell_type": "markdown",
   "metadata": {},
   "source": [
    "### Python\n",
    "---------------------------------------------------------------------------------------------------------\n",
    "Follow me on <img src=\"./imgs/linkedinlogo.png\" width=24 height=24> [Sumit Khanna](https://www.linkedin.com/in/sumitkhanna/?lipi=urn%3Ali%3Apage%3Ad_flagship3_feed%3BPJFykAjJT8%2BIv%2ByTX%2F1jOA%3D%3D) for more updates \n"
   ]
  },
  {
   "cell_type": "markdown",
   "metadata": {},
   "source": [
    "## Numpy CheatSheet"
   ]
  },
  {
   "cell_type": "code",
   "execution_count": 28,
   "metadata": {},
   "outputs": [],
   "source": [
    "import numpy as np"
   ]
  },
  {
   "cell_type": "markdown",
   "metadata": {},
   "source": [
    "### Core Functions\n"
   ]
  },
  {
   "cell_type": "code",
   "execution_count": 29,
   "metadata": {},
   "outputs": [
    {
     "name": "stdout",
     "output_type": "stream",
     "text": [
      "Array from list: [1 2 3 4]\n"
     ]
    }
   ],
   "source": [
    "# np.array\n",
    "data = [1, 2, 3, 4]\n",
    "arr = np.array(data)\n",
    "print(\"Array from list:\", arr)"
   ]
  },
  {
   "cell_type": "code",
   "execution_count": 30,
   "metadata": {},
   "outputs": [
    {
     "name": "stdout",
     "output_type": "stream",
     "text": [
      "Array with range: [10 12 14 16 18]\n"
     ]
    }
   ],
   "source": [
    "# np.arange\n",
    "arr_range = np.arange(10, 20, 2)\n",
    "print(\"Array with range:\", arr_range)"
   ]
  },
  {
   "cell_type": "code",
   "execution_count": 31,
   "metadata": {},
   "outputs": [
    {
     "name": "stdout",
     "output_type": "stream",
     "text": [
      "Zeros array:\n",
      " [[0. 0. 0.]\n",
      " [0. 0. 0.]]\n",
      "Ones array:\n",
      " [[1. 1.]\n",
      " [1. 1.]\n",
      " [1. 1.]]\n"
     ]
    }
   ],
   "source": [
    "# np.zeros, np.ones\n",
    "zeros_arr = np.zeros((2, 3))\n",
    "ones_arr = np.ones((3, 2))\n",
    "print(\"Zeros array:\\n\", zeros_arr)\n",
    "print(\"Ones array:\\n\", ones_arr)"
   ]
  },
  {
   "cell_type": "code",
   "execution_count": 32,
   "metadata": {},
   "outputs": [
    {
     "name": "stdout",
     "output_type": "stream",
     "text": [
      "Identity matrix:\n",
      " [[1. 0. 0. 0.]\n",
      " [0. 1. 0. 0.]\n",
      " [0. 0. 1. 0.]\n",
      " [0. 0. 0. 1.]]\n"
     ]
    }
   ],
   "source": [
    "# np.eye (Identity Matrix)\n",
    "identity_matrix = np.eye(4)\n",
    "print(\"Identity matrix:\\n\", identity_matrix)"
   ]
  },
  {
   "cell_type": "code",
   "execution_count": 33,
   "metadata": {},
   "outputs": [
    {
     "name": "stdout",
     "output_type": "stream",
     "text": [
      "Random uniform array:\n",
      " [[0.72859265 0.00167948 0.09512196]\n",
      " [0.34262591 0.02179833 0.69628906]]\n",
      "Random normal array:\n",
      " [[ 1.07851527 -0.25913882]\n",
      " [-0.27601988 -0.00366866]\n",
      " [-0.08370633  0.13587723]]\n"
     ]
    }
   ],
   "source": [
    "# np.random.rand, np.random.randn\n",
    "rand_arr = np.random.rand(2, 3)\n",
    "randn_arr = np.random.randn(3, 2)\n",
    "print(\"Random uniform array:\\n\", rand_arr)\n",
    "print(\"Random normal array:\\n\", randn_arr)"
   ]
  },
  {
   "cell_type": "code",
   "execution_count": 34,
   "metadata": {},
   "outputs": [
    {
     "name": "stdout",
     "output_type": "stream",
     "text": [
      "Linearly spaced array: [ 0.  2.  4.  6.  8. 10.]\n"
     ]
    }
   ],
   "source": [
    "# np.linspace\n",
    "lin_arr = np.linspace(0, 10, 6)\n",
    "print(\"Linearly spaced array:\", lin_arr)"
   ]
  },
  {
   "cell_type": "markdown",
   "metadata": {},
   "source": [
    "### Shape and Size"
   ]
  },
  {
   "cell_type": "code",
   "execution_count": 35,
   "metadata": {},
   "outputs": [
    {
     "name": "stdout",
     "output_type": "stream",
     "text": [
      "Shape of rand_arr: (2, 3)\n",
      "Dimensions of rand_arr: 2\n",
      "Total elements in rand_arr: 6\n"
     ]
    }
   ],
   "source": [
    "print(\"Shape of rand_arr:\", rand_arr.shape)\n",
    "print(\"Dimensions of rand_arr:\", rand_arr.ndim)\n",
    "print(\"Total elements in rand_arr:\", rand_arr.size)"
   ]
  },
  {
   "cell_type": "code",
   "execution_count": 36,
   "metadata": {},
   "outputs": [
    {
     "name": "stdout",
     "output_type": "stream",
     "text": [
      "Reshaped array:\n",
      " [[0.72859265 0.00167948]\n",
      " [0.09512196 0.34262591]\n",
      " [0.02179833 0.69628906]]\n"
     ]
    }
   ],
   "source": [
    "# Reshaping\n",
    "reshaped_arr = rand_arr.reshape(3, 2)\n",
    "print(\"Reshaped array:\\n\", reshaped_arr)"
   ]
  },
  {
   "cell_type": "code",
   "execution_count": 37,
   "metadata": {},
   "outputs": [
    {
     "name": "stdout",
     "output_type": "stream",
     "text": [
      "Flattened array: [0.72859265 0.00167948 0.09512196 0.34262591 0.02179833 0.69628906]\n"
     ]
    }
   ],
   "source": [
    "# Flattening\n",
    "flattened_arr = reshaped_arr.flatten()\n",
    "print(\"Flattened array:\", flattened_arr)\n"
   ]
  },
  {
   "cell_type": "code",
   "execution_count": 38,
   "metadata": {},
   "outputs": [
    {
     "name": "stdout",
     "output_type": "stream",
     "text": [
      "Transposed array:\n",
      " [[0.72859265 0.34262591]\n",
      " [0.00167948 0.02179833]\n",
      " [0.09512196 0.69628906]]\n"
     ]
    }
   ],
   "source": [
    "# Transpose\n",
    "transposed_arr = rand_arr.T\n",
    "print(\"Transposed array:\\n\", transposed_arr)"
   ]
  },
  {
   "cell_type": "markdown",
   "metadata": {},
   "source": [
    "### Element-wise Operations"
   ]
  },
  {
   "cell_type": "code",
   "execution_count": 39,
   "metadata": {},
   "outputs": [
    {
     "name": "stdout",
     "output_type": "stream",
     "text": [
      "Addition: [5 7 9]\n",
      "Subtraction: [-3 -3 -3]\n",
      "Multiplication: [ 4 10 18]\n",
      "Division: [0.25 0.4  0.5 ]\n",
      "Exponentiation: [  1  32 729]\n",
      "Square root: [0.70710678 1.22474487 1.58113883]\n",
      "Exponential: [ 1.64872127  4.48168907 12.18249396]\n",
      "Logarithm: [-0.69314718  0.40546511  0.91629073]\n"
     ]
    }
   ],
   "source": [
    "arr1 = np.array([1, 2, 3])\n",
    "arr2 = np.array([4, 5, 6])\n",
    "\n",
    "print(\"Addition:\", np.add(arr1, arr2))\n",
    "print(\"Subtraction:\", np.subtract(arr1, arr2))\n",
    "print(\"Multiplication:\", np.multiply(arr1, arr2))\n",
    "print(\"Division:\", np.divide(arr1, arr2))\n",
    "print(\"Exponentiation:\", np.power(arr1, arr2))\n",
    "\n",
    "# More math functions\n",
    "arr3 = np.array([0.5, 1.5, 2.5])\n",
    "print(\"Square root:\", np.sqrt(arr3))\n",
    "print(\"Exponential:\", np.exp(arr3))\n",
    "print(\"Logarithm:\", np.log(arr3))"
   ]
  },
  {
   "cell_type": "markdown",
   "metadata": {},
   "source": [
    "### Statistics"
   ]
  },
  {
   "cell_type": "code",
   "execution_count": 40,
   "metadata": {},
   "outputs": [
    {
     "name": "stdout",
     "output_type": "stream",
     "text": [
      "Mean: 41.266666666666666\n",
      "Median: 43.0\n",
      "Standard Deviation: 25.647525330049984\n",
      "Variance: 657.7955555555556\n",
      "Min: 5\n",
      "Max: 87\n",
      "Sum: 619\n"
     ]
    }
   ],
   "source": [
    "data = np.array([22, 87, 5, 43, 56, 73, 55, 54, 11, 20, 51, 5, 79, 31, 27])\n",
    "\n",
    "print(\"Mean:\", np.mean(data))\n",
    "print(\"Median:\", np.median(data))\n",
    "print(\"Standard Deviation:\", np.std(data))\n",
    "print(\"Variance:\", np.var(data))\n",
    "print(\"Min:\", np.min(data))\n",
    "print(\"Max:\", np.max(data))\n",
    "print(\"Sum:\", np.sum(data))"
   ]
  },
  {
   "cell_type": "markdown",
   "metadata": {},
   "source": [
    "### Core Array Creation and Manipulation "
   ]
  },
  {
   "cell_type": "code",
   "execution_count": 41,
   "metadata": {},
   "outputs": [
    {
     "name": "stdout",
     "output_type": "stream",
     "text": [
      "Empty array:\n",
      " [[0.72859265 0.34262591 0.00167948]\n",
      " [0.02179833 0.09512196 0.69628906]]\n"
     ]
    }
   ],
   "source": [
    "# np.empty: Creates an array without initializing entries\n",
    "empty_arr = np.empty((2, 3))\n",
    "print(\"Empty array:\\n\", empty_arr)"
   ]
  },
  {
   "cell_type": "code",
   "execution_count": 42,
   "metadata": {},
   "outputs": [
    {
     "name": "stdout",
     "output_type": "stream",
     "text": [
      "Array filled with 7:\n",
      " [[7 7]\n",
      " [7 7]\n",
      " [7 7]]\n"
     ]
    }
   ],
   "source": [
    "# np.full: Creates an array filled with a specific value\n",
    "full_arr = np.full((3, 2), 7)\n",
    "print(\"Array filled with 7:\\n\", full_arr)"
   ]
  },
  {
   "cell_type": "code",
   "execution_count": 43,
   "metadata": {},
   "outputs": [
    {
     "name": "stdout",
     "output_type": "stream",
     "text": [
      "Concatenated array:\n",
      " [[1 2]\n",
      " [3 4]\n",
      " [5 6]]\n"
     ]
    }
   ],
   "source": [
    "# np.concatenate: Joins arrays along an existing axis\n",
    "arr1 = np.array([[1, 2], [3, 4]])\n",
    "arr2 = np.array([[5, 6]])\n",
    "concat_arr = np.concatenate((arr1, arr2), axis=0)  # Join vertically\n",
    "print(\"Concatenated array:\\n\", concat_arr)"
   ]
  },
  {
   "cell_type": "code",
   "execution_count": 44,
   "metadata": {},
   "outputs": [
    {
     "name": "stdout",
     "output_type": "stream",
     "text": [
      "Vertically stacked:\n",
      " [[1 2]\n",
      " [3 4]\n",
      " [5 6]]\n",
      "Horizontally stacked:\n",
      " [[1 2 5]\n",
      " [3 4 6]]\n"
     ]
    }
   ],
   "source": [
    "# np.vstack, np.hstack: Stack arrays vertically or horizontally\n",
    "vstack_arr = np.vstack((arr1, arr2))\n",
    "hstack_arr = np.hstack((arr1, arr2.T))  # Need to transpose arr2 for compatibility\n",
    "print(\"Vertically stacked:\\n\", vstack_arr)\n",
    "print(\"Horizontally stacked:\\n\", hstack_arr)"
   ]
  },
  {
   "cell_type": "code",
   "execution_count": 45,
   "metadata": {},
   "outputs": [
    {
     "name": "stdout",
     "output_type": "stream",
     "text": [
      "Split arrays:\n",
      " [array([[1],\n",
      "       [3]]), array([[2],\n",
      "       [4]])]\n"
     ]
    }
   ],
   "source": [
    "# np.split: Splits an array into multiple sub-arrays\n",
    "split_arr = np.split(arr1, 2, axis=1)  # Split into 2 columns\n",
    "print(\"Split arrays:\\n\", split_arr)"
   ]
  },
  {
   "cell_type": "code",
   "execution_count": 46,
   "metadata": {},
   "outputs": [
    {
     "name": "stdout",
     "output_type": "stream",
     "text": [
      "Tiled array:\n",
      " [[1 2 1 2 1 2]\n",
      " [3 4 3 4 3 4]\n",
      " [1 2 1 2 1 2]\n",
      " [3 4 3 4 3 4]]\n"
     ]
    }
   ],
   "source": [
    "# np.tile: Constructs an array by repeating a given array\n",
    "tiled_arr = np.tile(arr1, (2, 3))  # Repeat arr1 2 times vertically and 3 times horizontally\n",
    "print(\"Tiled array:\\n\", tiled_arr)"
   ]
  },
  {
   "cell_type": "markdown",
   "metadata": {},
   "source": [
    "### Linear Algebra\n"
   ]
  },
  {
   "cell_type": "code",
   "execution_count": 47,
   "metadata": {},
   "outputs": [
    {
     "name": "stdout",
     "output_type": "stream",
     "text": [
      "Dot product:\n",
      " [[19 22]\n",
      " [43 50]]\n"
     ]
    }
   ],
   "source": [
    "# np.dot: Dot product of two arrays\n",
    "arr1 = np.array([[1, 2], [3, 4]])\n",
    "arr2 = np.array([[5, 6], [7, 8]])\n",
    "dot_product = np.dot(arr1, arr2)\n",
    "print(\"Dot product:\\n\", dot_product)"
   ]
  },
  {
   "cell_type": "code",
   "execution_count": 48,
   "metadata": {},
   "outputs": [
    {
     "name": "stdout",
     "output_type": "stream",
     "text": [
      "Inverse of arr1:\n",
      " [[-2.   1. ]\n",
      " [ 1.5 -0.5]]\n"
     ]
    }
   ],
   "source": [
    "# np.linalg.inv: Matrix inverse\n",
    "inv_arr = np.linalg.inv(arr1)\n",
    "print(\"Inverse of arr1:\\n\", inv_arr)"
   ]
  },
  {
   "cell_type": "code",
   "execution_count": 49,
   "metadata": {},
   "outputs": [
    {
     "name": "stdout",
     "output_type": "stream",
     "text": [
      "Determinant of arr1: -2.0000000000000004\n"
     ]
    }
   ],
   "source": [
    "# np.linalg.det: Matrix determinant\n",
    "det_arr = np.linalg.det(arr1)\n",
    "print(\"Determinant of arr1:\", det_arr)"
   ]
  },
  {
   "cell_type": "code",
   "execution_count": 50,
   "metadata": {},
   "outputs": [
    {
     "name": "stdout",
     "output_type": "stream",
     "text": [
      "Eigenvalues of arr1: [-0.37228132  5.37228132]\n",
      "Eigenvectors of arr1:\n",
      " [[-0.82456484 -0.41597356]\n",
      " [ 0.56576746 -0.90937671]]\n"
     ]
    }
   ],
   "source": [
    "# np.linalg.eig: Eigenvalues and eigenvectors\n",
    "eigenvalues, eigenvectors = np.linalg.eig(arr1)\n",
    "print(\"Eigenvalues of arr1:\", eigenvalues)\n",
    "print(\"Eigenvectors of arr1:\\n\", eigenvectors)\n"
   ]
  },
  {
   "cell_type": "code",
   "execution_count": 51,
   "metadata": {},
   "outputs": [
    {
     "name": "stdout",
     "output_type": "stream",
     "text": [
      "Trace of arr1: 5\n"
     ]
    }
   ],
   "source": [
    "# np.trace: Sum of diagonal elements\n",
    "trace = np.trace(arr1)\n",
    "print(\"Trace of arr1:\", trace)"
   ]
  },
  {
   "cell_type": "markdown",
   "metadata": {},
   "source": [
    "### Calculus and Fourier Transform"
   ]
  },
  {
   "cell_type": "code",
   "execution_count": 52,
   "metadata": {},
   "outputs": [
    {
     "name": "stdout",
     "output_type": "stream",
     "text": [
      "Gradient: [2.         2.33333333 3.13333333 3.19047619 3.26666667 3.6       ]\n"
     ]
    }
   ],
   "source": [
    "# np.gradient: Numerical gradient (finite differences)\n",
    "x = np.array([1, 2, 4, 7, 11, 16])\n",
    "y = np.array([1, 3, 9, 19, 31, 49])\n",
    "gradient = np.gradient(y, x) \n",
    "print(\"Gradient:\", gradient)"
   ]
  },
  {
   "cell_type": "code",
   "execution_count": 53,
   "metadata": {},
   "outputs": [
    {
     "name": "stdout",
     "output_type": "stream",
     "text": [
      "FFT: [5.+0.j 0.+0.j 0.+0.j 0.+0.j 0.+0.j]\n"
     ]
    }
   ],
   "source": [
    "# np.fft.fft: Discrete Fourier Transform\n",
    "x = np.array([1.0, 1.0, 1.0, 1.0, 1.0])\n",
    "y = np.fft.fft(x)\n",
    "print(\"FFT:\", y)"
   ]
  },
  {
   "cell_type": "markdown",
   "metadata": {},
   "source": [
    "### Probability"
   ]
  },
  {
   "cell_type": "code",
   "execution_count": 54,
   "metadata": {},
   "outputs": [
    {
     "name": "stdout",
     "output_type": "stream",
     "text": [
      "Random sample: ['B' 'D' 'B' 'B' 'D']\n"
     ]
    }
   ],
   "source": [
    "# np.random.choice: Randomly sample elements from an array\n",
    "elements = np.array(['A', 'B', 'C', 'D'])\n",
    "probabilities = [0.1, 0.4, 0.2, 0.3]\n",
    "sample = np.random.choice(elements, size=5, p=probabilities)  # Sample 5 elements\n",
    "print(\"Random sample:\", sample)"
   ]
  },
  {
   "cell_type": "markdown",
   "metadata": {},
   "source": [
    "---------------------------------------------------------------------------------------------------------\n",
    "Follow me on <img src=\"./imgs/linkedinlogo.png\" width=24 height=24> [Sumit Khanna](https://www.linkedin.com/in/sumitkhanna/?lipi=urn%3Ali%3Apage%3Ad_flagship3_feed%3BPJFykAjJT8%2BIv%2ByTX%2F1jOA%3D%3D) for more updates "
   ]
  }
 ],
 "metadata": {
  "kernelspec": {
   "display_name": ".venv",
   "language": "python",
   "name": "python3"
  },
  "language_info": {
   "codemirror_mode": {
    "name": "ipython",
    "version": 3
   },
   "file_extension": ".py",
   "mimetype": "text/x-python",
   "name": "python",
   "nbconvert_exporter": "python",
   "pygments_lexer": "ipython3",
   "version": "3.11.8"
  }
 },
 "nbformat": 4,
 "nbformat_minor": 2
}
